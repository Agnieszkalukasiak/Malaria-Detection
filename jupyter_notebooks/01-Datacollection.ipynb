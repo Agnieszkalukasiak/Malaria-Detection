{
 "cells": [
  {
   "cell_type": "markdown",
   "id": "a92526fd",
   "metadata": {},
   "source": [
    "\n",
    "# Objectives\n",
    "\n",
    "Fetch data from Kaggle and prepare it for further processes.\n",
    "\n",
    "# Inputs\n",
    "\n",
    "Kaggle JSON file - the authentication token.\n",
    "\n",
    "Outputs\n",
    "\n",
    "# Generate Dataset: inputs/datasets/malaria_dataset\n",
    "\n",
    "Additional Comments | Insights | Conclusions\n",
    "No additional comments."
   ]
  },
  {
   "cell_type": "code",
   "execution_count": 14,
   "id": "5f48cd6e",
   "metadata": {},
   "outputs": [
    {
     "name": "stdout",
     "output_type": "stream",
     "text": [
      "Requirement already satisfied: numpy==1.26.1 in /home/codespace/.python/current/lib/python3.12/site-packages (from -r /workspaces/Malaria-Detection/requirements.txt (line 1)) (1.26.1)\n",
      "Requirement already satisfied: pandas==2.1.1 in /home/codespace/.python/current/lib/python3.12/site-packages (from -r /workspaces/Malaria-Detection/requirements.txt (line 2)) (2.1.1)\n",
      "Requirement already satisfied: matplotlib==3.8.0 in /home/codespace/.python/current/lib/python3.12/site-packages (from -r /workspaces/Malaria-Detection/requirements.txt (line 3)) (3.8.0)\n",
      "Requirement already satisfied: seaborn==0.13.2 in /home/codespace/.local/lib/python3.12/site-packages (from -r /workspaces/Malaria-Detection/requirements.txt (line 4)) (0.13.2)\n",
      "Requirement already satisfied: plotly==5.17.0 in /home/codespace/.python/current/lib/python3.12/site-packages (from -r /workspaces/Malaria-Detection/requirements.txt (line 5)) (5.17.0)\n",
      "Requirement already satisfied: Pillow==10.0.1 in /home/codespace/.python/current/lib/python3.12/site-packages (from -r /workspaces/Malaria-Detection/requirements.txt (line 6)) (10.0.1)\n",
      "Requirement already satisfied: streamlit==1.40.2 in /home/codespace/.python/current/lib/python3.12/site-packages (from -r /workspaces/Malaria-Detection/requirements.txt (line 7)) (1.40.2)\n",
      "Requirement already satisfied: joblib==1.4.2 in /home/codespace/.local/lib/python3.12/site-packages (from -r /workspaces/Malaria-Detection/requirements.txt (line 8)) (1.4.2)\n",
      "Requirement already satisfied: scikit-learn==1.3.1 in /home/codespace/.python/current/lib/python3.12/site-packages (from -r /workspaces/Malaria-Detection/requirements.txt (line 9)) (1.3.1)\n",
      "Requirement already satisfied: tensorflow-cpu==2.16.1 in /home/codespace/.python/current/lib/python3.12/site-packages (from -r /workspaces/Malaria-Detection/requirements.txt (line 10)) (2.16.1)\n",
      "Requirement already satisfied: keras>=3.0.0 in /home/codespace/.python/current/lib/python3.12/site-packages (from -r /workspaces/Malaria-Detection/requirements.txt (line 11)) (3.9.2)\n",
      "Requirement already satisfied: python-dateutil>=2.8.2 in /home/codespace/.local/lib/python3.12/site-packages (from pandas==2.1.1->-r /workspaces/Malaria-Detection/requirements.txt (line 2)) (2.9.0.post0)\n",
      "Requirement already satisfied: pytz>=2020.1 in /home/codespace/.local/lib/python3.12/site-packages (from pandas==2.1.1->-r /workspaces/Malaria-Detection/requirements.txt (line 2)) (2025.1)\n",
      "Requirement already satisfied: tzdata>=2022.1 in /home/codespace/.local/lib/python3.12/site-packages (from pandas==2.1.1->-r /workspaces/Malaria-Detection/requirements.txt (line 2)) (2025.1)\n",
      "Requirement already satisfied: contourpy>=1.0.1 in /home/codespace/.local/lib/python3.12/site-packages (from matplotlib==3.8.0->-r /workspaces/Malaria-Detection/requirements.txt (line 3)) (1.3.1)\n",
      "Requirement already satisfied: cycler>=0.10 in /home/codespace/.local/lib/python3.12/site-packages (from matplotlib==3.8.0->-r /workspaces/Malaria-Detection/requirements.txt (line 3)) (0.12.1)\n",
      "Requirement already satisfied: fonttools>=4.22.0 in /home/codespace/.local/lib/python3.12/site-packages (from matplotlib==3.8.0->-r /workspaces/Malaria-Detection/requirements.txt (line 3)) (4.56.0)\n",
      "Requirement already satisfied: kiwisolver>=1.0.1 in /home/codespace/.local/lib/python3.12/site-packages (from matplotlib==3.8.0->-r /workspaces/Malaria-Detection/requirements.txt (line 3)) (1.4.8)\n",
      "Requirement already satisfied: packaging>=20.0 in /home/codespace/.local/lib/python3.12/site-packages (from matplotlib==3.8.0->-r /workspaces/Malaria-Detection/requirements.txt (line 3)) (24.2)\n",
      "Requirement already satisfied: pyparsing>=2.3.1 in /home/codespace/.local/lib/python3.12/site-packages (from matplotlib==3.8.0->-r /workspaces/Malaria-Detection/requirements.txt (line 3)) (3.2.1)\n",
      "Requirement already satisfied: tenacity>=6.2.0 in /home/codespace/.python/current/lib/python3.12/site-packages (from plotly==5.17.0->-r /workspaces/Malaria-Detection/requirements.txt (line 5)) (9.1.2)\n",
      "Requirement already satisfied: altair<6,>=4.0 in /home/codespace/.python/current/lib/python3.12/site-packages (from streamlit==1.40.2->-r /workspaces/Malaria-Detection/requirements.txt (line 7)) (5.5.0)\n",
      "Requirement already satisfied: blinker<2,>=1.0.0 in /home/codespace/.python/current/lib/python3.12/site-packages (from streamlit==1.40.2->-r /workspaces/Malaria-Detection/requirements.txt (line 7)) (1.9.0)\n",
      "Requirement already satisfied: cachetools<6,>=4.0 in /home/codespace/.python/current/lib/python3.12/site-packages (from streamlit==1.40.2->-r /workspaces/Malaria-Detection/requirements.txt (line 7)) (5.5.2)\n",
      "Requirement already satisfied: click<9,>=7.0 in /home/codespace/.python/current/lib/python3.12/site-packages (from streamlit==1.40.2->-r /workspaces/Malaria-Detection/requirements.txt (line 7)) (8.1.8)\n",
      "Requirement already satisfied: protobuf<6,>=3.20 in /home/codespace/.python/current/lib/python3.12/site-packages (from streamlit==1.40.2->-r /workspaces/Malaria-Detection/requirements.txt (line 7)) (4.25.7)\n",
      "Requirement already satisfied: pyarrow>=7.0 in /home/codespace/.python/current/lib/python3.12/site-packages (from streamlit==1.40.2->-r /workspaces/Malaria-Detection/requirements.txt (line 7)) (20.0.0)\n",
      "Requirement already satisfied: requests<3,>=2.27 in /home/codespace/.local/lib/python3.12/site-packages (from streamlit==1.40.2->-r /workspaces/Malaria-Detection/requirements.txt (line 7)) (2.32.3)\n",
      "Requirement already satisfied: rich<14,>=10.14.0 in /home/codespace/.python/current/lib/python3.12/site-packages (from streamlit==1.40.2->-r /workspaces/Malaria-Detection/requirements.txt (line 7)) (13.9.4)\n",
      "Requirement already satisfied: toml<2,>=0.10.1 in /home/codespace/.python/current/lib/python3.12/site-packages (from streamlit==1.40.2->-r /workspaces/Malaria-Detection/requirements.txt (line 7)) (0.10.2)\n",
      "Requirement already satisfied: typing-extensions<5,>=4.3.0 in /home/codespace/.local/lib/python3.12/site-packages (from streamlit==1.40.2->-r /workspaces/Malaria-Detection/requirements.txt (line 7)) (4.12.2)\n",
      "Requirement already satisfied: watchdog<7,>=2.1.5 in /home/codespace/.python/current/lib/python3.12/site-packages (from streamlit==1.40.2->-r /workspaces/Malaria-Detection/requirements.txt (line 7)) (6.0.0)\n",
      "Requirement already satisfied: gitpython!=3.1.19,<4,>=3.0.7 in /home/codespace/.local/lib/python3.12/site-packages (from streamlit==1.40.2->-r /workspaces/Malaria-Detection/requirements.txt (line 7)) (3.1.44)\n",
      "Requirement already satisfied: pydeck<1,>=0.8.0b4 in /home/codespace/.python/current/lib/python3.12/site-packages (from streamlit==1.40.2->-r /workspaces/Malaria-Detection/requirements.txt (line 7)) (0.9.1)\n",
      "Requirement already satisfied: tornado<7,>=6.0.3 in /home/codespace/.local/lib/python3.12/site-packages (from streamlit==1.40.2->-r /workspaces/Malaria-Detection/requirements.txt (line 7)) (6.4.2)\n",
      "Requirement already satisfied: scipy>=1.5.0 in /home/codespace/.local/lib/python3.12/site-packages (from scikit-learn==1.3.1->-r /workspaces/Malaria-Detection/requirements.txt (line 9)) (1.15.2)\n",
      "Requirement already satisfied: threadpoolctl>=2.0.0 in /home/codespace/.local/lib/python3.12/site-packages (from scikit-learn==1.3.1->-r /workspaces/Malaria-Detection/requirements.txt (line 9)) (3.6.0)\n",
      "Requirement already satisfied: absl-py>=1.0.0 in /home/codespace/.python/current/lib/python3.12/site-packages (from tensorflow-cpu==2.16.1->-r /workspaces/Malaria-Detection/requirements.txt (line 10)) (2.2.2)\n",
      "Requirement already satisfied: astunparse>=1.6.0 in /home/codespace/.python/current/lib/python3.12/site-packages (from tensorflow-cpu==2.16.1->-r /workspaces/Malaria-Detection/requirements.txt (line 10)) (1.6.3)\n",
      "Requirement already satisfied: flatbuffers>=23.5.26 in /home/codespace/.python/current/lib/python3.12/site-packages (from tensorflow-cpu==2.16.1->-r /workspaces/Malaria-Detection/requirements.txt (line 10)) (25.2.10)\n",
      "Requirement already satisfied: gast!=0.5.0,!=0.5.1,!=0.5.2,>=0.2.1 in /home/codespace/.python/current/lib/python3.12/site-packages (from tensorflow-cpu==2.16.1->-r /workspaces/Malaria-Detection/requirements.txt (line 10)) (0.6.0)\n",
      "Requirement already satisfied: google-pasta>=0.1.1 in /home/codespace/.python/current/lib/python3.12/site-packages (from tensorflow-cpu==2.16.1->-r /workspaces/Malaria-Detection/requirements.txt (line 10)) (0.2.0)\n",
      "Requirement already satisfied: h5py>=3.10.0 in /home/codespace/.python/current/lib/python3.12/site-packages (from tensorflow-cpu==2.16.1->-r /workspaces/Malaria-Detection/requirements.txt (line 10)) (3.13.0)\n",
      "Requirement already satisfied: libclang>=13.0.0 in /home/codespace/.python/current/lib/python3.12/site-packages (from tensorflow-cpu==2.16.1->-r /workspaces/Malaria-Detection/requirements.txt (line 10)) (18.1.1)\n",
      "Requirement already satisfied: ml-dtypes~=0.3.1 in /home/codespace/.python/current/lib/python3.12/site-packages (from tensorflow-cpu==2.16.1->-r /workspaces/Malaria-Detection/requirements.txt (line 10)) (0.3.2)\n",
      "Requirement already satisfied: opt-einsum>=2.3.2 in /home/codespace/.python/current/lib/python3.12/site-packages (from tensorflow-cpu==2.16.1->-r /workspaces/Malaria-Detection/requirements.txt (line 10)) (3.4.0)\n",
      "Requirement already satisfied: setuptools in /home/codespace/.local/lib/python3.12/site-packages (from tensorflow-cpu==2.16.1->-r /workspaces/Malaria-Detection/requirements.txt (line 10)) (76.0.0)\n",
      "Requirement already satisfied: six>=1.12.0 in /home/codespace/.local/lib/python3.12/site-packages (from tensorflow-cpu==2.16.1->-r /workspaces/Malaria-Detection/requirements.txt (line 10)) (1.17.0)\n",
      "Requirement already satisfied: termcolor>=1.1.0 in /home/codespace/.python/current/lib/python3.12/site-packages (from tensorflow-cpu==2.16.1->-r /workspaces/Malaria-Detection/requirements.txt (line 10)) (3.1.0)\n",
      "Requirement already satisfied: wrapt>=1.11.0 in /home/codespace/.python/current/lib/python3.12/site-packages (from tensorflow-cpu==2.16.1->-r /workspaces/Malaria-Detection/requirements.txt (line 10)) (1.17.2)\n",
      "Requirement already satisfied: grpcio<2.0,>=1.24.3 in /home/codespace/.python/current/lib/python3.12/site-packages (from tensorflow-cpu==2.16.1->-r /workspaces/Malaria-Detection/requirements.txt (line 10)) (1.71.0)\n",
      "Requirement already satisfied: tensorboard<2.17,>=2.16 in /home/codespace/.python/current/lib/python3.12/site-packages (from tensorflow-cpu==2.16.1->-r /workspaces/Malaria-Detection/requirements.txt (line 10)) (2.16.2)\n",
      "Requirement already satisfied: namex in /home/codespace/.python/current/lib/python3.12/site-packages (from keras>=3.0.0->-r /workspaces/Malaria-Detection/requirements.txt (line 11)) (0.0.9)\n",
      "Requirement already satisfied: optree in /home/codespace/.python/current/lib/python3.12/site-packages (from keras>=3.0.0->-r /workspaces/Malaria-Detection/requirements.txt (line 11)) (0.15.0)\n",
      "Requirement already satisfied: jinja2 in /home/codespace/.local/lib/python3.12/site-packages (from altair<6,>=4.0->streamlit==1.40.2->-r /workspaces/Malaria-Detection/requirements.txt (line 7)) (3.1.6)\n",
      "Requirement already satisfied: jsonschema>=3.0 in /home/codespace/.local/lib/python3.12/site-packages (from altair<6,>=4.0->streamlit==1.40.2->-r /workspaces/Malaria-Detection/requirements.txt (line 7)) (4.23.0)\n",
      "Requirement already satisfied: narwhals>=1.14.2 in /home/codespace/.local/lib/python3.12/site-packages (from altair<6,>=4.0->streamlit==1.40.2->-r /workspaces/Malaria-Detection/requirements.txt (line 7)) (1.31.0)\n",
      "Requirement already satisfied: wheel<1.0,>=0.23.0 in /home/codespace/.python/current/lib/python3.12/site-packages (from astunparse>=1.6.0->tensorflow-cpu==2.16.1->-r /workspaces/Malaria-Detection/requirements.txt (line 10)) (0.45.1)\n",
      "Requirement already satisfied: gitdb<5,>=4.0.1 in /home/codespace/.local/lib/python3.12/site-packages (from gitpython!=3.1.19,<4,>=3.0.7->streamlit==1.40.2->-r /workspaces/Malaria-Detection/requirements.txt (line 7)) (4.0.12)\n",
      "Requirement already satisfied: charset-normalizer<4,>=2 in /home/codespace/.local/lib/python3.12/site-packages (from requests<3,>=2.27->streamlit==1.40.2->-r /workspaces/Malaria-Detection/requirements.txt (line 7)) (3.4.1)\n",
      "Requirement already satisfied: idna<4,>=2.5 in /home/codespace/.local/lib/python3.12/site-packages (from requests<3,>=2.27->streamlit==1.40.2->-r /workspaces/Malaria-Detection/requirements.txt (line 7)) (3.10)\n",
      "Requirement already satisfied: urllib3<3,>=1.21.1 in /home/codespace/.local/lib/python3.12/site-packages (from requests<3,>=2.27->streamlit==1.40.2->-r /workspaces/Malaria-Detection/requirements.txt (line 7)) (2.3.0)\n",
      "Requirement already satisfied: certifi>=2017.4.17 in /home/codespace/.local/lib/python3.12/site-packages (from requests<3,>=2.27->streamlit==1.40.2->-r /workspaces/Malaria-Detection/requirements.txt (line 7)) (2025.1.31)\n",
      "Requirement already satisfied: markdown-it-py>=2.2.0 in /home/codespace/.python/current/lib/python3.12/site-packages (from rich<14,>=10.14.0->streamlit==1.40.2->-r /workspaces/Malaria-Detection/requirements.txt (line 7)) (3.0.0)\n",
      "Requirement already satisfied: pygments<3.0.0,>=2.13.0 in /home/codespace/.local/lib/python3.12/site-packages (from rich<14,>=10.14.0->streamlit==1.40.2->-r /workspaces/Malaria-Detection/requirements.txt (line 7)) (2.19.1)\n",
      "Requirement already satisfied: markdown>=2.6.8 in /home/codespace/.python/current/lib/python3.12/site-packages (from tensorboard<2.17,>=2.16->tensorflow-cpu==2.16.1->-r /workspaces/Malaria-Detection/requirements.txt (line 10)) (3.8)\n",
      "Requirement already satisfied: tensorboard-data-server<0.8.0,>=0.7.0 in /home/codespace/.python/current/lib/python3.12/site-packages (from tensorboard<2.17,>=2.16->tensorflow-cpu==2.16.1->-r /workspaces/Malaria-Detection/requirements.txt (line 10)) (0.7.2)\n",
      "Requirement already satisfied: werkzeug>=1.0.1 in /home/codespace/.python/current/lib/python3.12/site-packages (from tensorboard<2.17,>=2.16->tensorflow-cpu==2.16.1->-r /workspaces/Malaria-Detection/requirements.txt (line 10)) (3.1.3)\n",
      "Requirement already satisfied: smmap<6,>=3.0.1 in /home/codespace/.local/lib/python3.12/site-packages (from gitdb<5,>=4.0.1->gitpython!=3.1.19,<4,>=3.0.7->streamlit==1.40.2->-r /workspaces/Malaria-Detection/requirements.txt (line 7)) (5.0.2)\n",
      "Requirement already satisfied: MarkupSafe>=2.0 in /home/codespace/.local/lib/python3.12/site-packages (from jinja2->altair<6,>=4.0->streamlit==1.40.2->-r /workspaces/Malaria-Detection/requirements.txt (line 7)) (3.0.2)\n",
      "Requirement already satisfied: attrs>=22.2.0 in /home/codespace/.local/lib/python3.12/site-packages (from jsonschema>=3.0->altair<6,>=4.0->streamlit==1.40.2->-r /workspaces/Malaria-Detection/requirements.txt (line 7)) (25.3.0)\n",
      "Requirement already satisfied: jsonschema-specifications>=2023.03.6 in /home/codespace/.local/lib/python3.12/site-packages (from jsonschema>=3.0->altair<6,>=4.0->streamlit==1.40.2->-r /workspaces/Malaria-Detection/requirements.txt (line 7)) (2024.10.1)\n",
      "Requirement already satisfied: referencing>=0.28.4 in /home/codespace/.local/lib/python3.12/site-packages (from jsonschema>=3.0->altair<6,>=4.0->streamlit==1.40.2->-r /workspaces/Malaria-Detection/requirements.txt (line 7)) (0.36.2)\n",
      "Requirement already satisfied: rpds-py>=0.7.1 in /home/codespace/.local/lib/python3.12/site-packages (from jsonschema>=3.0->altair<6,>=4.0->streamlit==1.40.2->-r /workspaces/Malaria-Detection/requirements.txt (line 7)) (0.23.1)\n",
      "Requirement already satisfied: mdurl~=0.1 in /home/codespace/.python/current/lib/python3.12/site-packages (from markdown-it-py>=2.2.0->rich<14,>=10.14.0->streamlit==1.40.2->-r /workspaces/Malaria-Detection/requirements.txt (line 7)) (0.1.2)\n",
      "\n",
      "\u001b[1m[\u001b[0m\u001b[34;49mnotice\u001b[0m\u001b[1;39;49m]\u001b[0m\u001b[39;49m A new release of pip is available: \u001b[0m\u001b[31;49m25.0.1\u001b[0m\u001b[39;49m -> \u001b[0m\u001b[32;49m25.1.1\u001b[0m\n",
      "\u001b[1m[\u001b[0m\u001b[34;49mnotice\u001b[0m\u001b[1;39;49m]\u001b[0m\u001b[39;49m To update, run: \u001b[0m\u001b[32;49mpip install --upgrade pip\u001b[0m\n",
      "Note: you may need to restart the kernel to use updated packages.\n"
     ]
    }
   ],
   "source": [
    "%pip install -r/workspaces/Malaria-Detection/requirements.txt"
   ]
  },
  {
   "cell_type": "code",
   "execution_count": 15,
   "id": "2aa1e2e1",
   "metadata": {},
   "outputs": [],
   "source": [
    "import numpy\n",
    "import os"
   ]
  },
  {
   "cell_type": "markdown",
   "id": "24e8d8ba",
   "metadata": {},
   "source": [
    "## Change the working directory"
   ]
  },
  {
   "cell_type": "code",
   "execution_count": 16,
   "id": "f4ded0e3",
   "metadata": {},
   "outputs": [
    {
     "data": {
      "text/plain": [
       "'/workspaces/Malaria-Detection/jupyter_notebooks'"
      ]
     },
     "execution_count": 16,
     "metadata": {},
     "output_type": "execute_result"
    }
   ],
   "source": [
    "current_dir = os.getcwd()\n",
    "current_dir"
   ]
  },
  {
   "cell_type": "code",
   "execution_count": 17,
   "id": "72bd1bf2",
   "metadata": {},
   "outputs": [
    {
     "data": {
      "text/plain": [
       "'/workspaces/Malaria-Detection/jupyter_notebooks'"
      ]
     },
     "execution_count": 17,
     "metadata": {},
     "output_type": "execute_result"
    }
   ],
   "source": [
    "current_dir = os.getcwd()\n",
    "current_dir"
   ]
  },
  {
   "cell_type": "markdown",
   "id": "ab5680f8",
   "metadata": {},
   "source": [
    "# Install Keggle"
   ]
  },
  {
   "cell_type": "code",
   "execution_count": 18,
   "id": "64e55f18",
   "metadata": {},
   "outputs": [
    {
     "name": "stdout",
     "output_type": "stream",
     "text": [
      "Requirement already satisfied: kaggle==1.5.12 in /home/codespace/.python/current/lib/python3.12/site-packages (1.5.12)\n",
      "Requirement already satisfied: six>=1.10 in /home/codespace/.local/lib/python3.12/site-packages (from kaggle==1.5.12) (1.17.0)\n",
      "Requirement already satisfied: certifi in /home/codespace/.local/lib/python3.12/site-packages (from kaggle==1.5.12) (2025.1.31)\n",
      "Requirement already satisfied: python-dateutil in /home/codespace/.local/lib/python3.12/site-packages (from kaggle==1.5.12) (2.9.0.post0)\n",
      "Requirement already satisfied: requests in /home/codespace/.local/lib/python3.12/site-packages (from kaggle==1.5.12) (2.32.3)\n",
      "Requirement already satisfied: tqdm in /home/codespace/.python/current/lib/python3.12/site-packages (from kaggle==1.5.12) (4.67.1)\n",
      "Requirement already satisfied: python-slugify in /home/codespace/.python/current/lib/python3.12/site-packages (from kaggle==1.5.12) (8.0.4)\n",
      "Requirement already satisfied: urllib3 in /home/codespace/.local/lib/python3.12/site-packages (from kaggle==1.5.12) (2.3.0)\n",
      "Requirement already satisfied: text-unidecode>=1.3 in /home/codespace/.python/current/lib/python3.12/site-packages (from python-slugify->kaggle==1.5.12) (1.3)\n",
      "Requirement already satisfied: charset-normalizer<4,>=2 in /home/codespace/.local/lib/python3.12/site-packages (from requests->kaggle==1.5.12) (3.4.1)\n",
      "Requirement already satisfied: idna<4,>=2.5 in /home/codespace/.local/lib/python3.12/site-packages (from requests->kaggle==1.5.12) (3.10)\n",
      "\n",
      "\u001b[1m[\u001b[0m\u001b[34;49mnotice\u001b[0m\u001b[1;39;49m]\u001b[0m\u001b[39;49m A new release of pip is available: \u001b[0m\u001b[31;49m25.0.1\u001b[0m\u001b[39;49m -> \u001b[0m\u001b[32;49m25.1.1\u001b[0m\n",
      "\u001b[1m[\u001b[0m\u001b[34;49mnotice\u001b[0m\u001b[1;39;49m]\u001b[0m\u001b[39;49m To update, run: \u001b[0m\u001b[32;49mpip install --upgrade pip\u001b[0m\n",
      "Note: you may need to restart the kernel to use updated packages.\n"
     ]
    }
   ],
   "source": [
    "%pip install kaggle==1.5.12"
   ]
  },
  {
   "cell_type": "code",
   "execution_count": 19,
   "id": "8526941a",
   "metadata": {},
   "outputs": [
    {
     "name": "stdout",
     "output_type": "stream",
     "text": [
      "chmod: cannot access 'kaggle.json': No such file or directory\n"
     ]
    }
   ],
   "source": [
    "os.environ['KAGGLE_CONFIG_DIR'] = os.getcwd()\n",
    "! chmod 600 kaggle.json"
   ]
  },
  {
   "cell_type": "code",
   "execution_count": 20,
   "id": "705b5a86",
   "metadata": {},
   "outputs": [
    {
     "name": "stdout",
     "output_type": "stream",
     "text": [
      "Traceback (most recent call last):\n",
      "  File \"/home/codespace/.python/current/bin/kaggle\", line 5, in <module>\n",
      "    from kaggle.cli import main\n",
      "  File \"/home/codespace/.python/current/lib/python3.12/site-packages/kaggle/__init__.py\", line 23, in <module>\n",
      "    api.authenticate()\n",
      "  File \"/home/codespace/.python/current/lib/python3.12/site-packages/kaggle/api/kaggle_api_extended.py\", line 164, in authenticate\n",
      "    raise IOError('Could not find {}. Make sure it\\'s located in'\n",
      "OSError: Could not find kaggle.json. Make sure it's located in /workspaces/Malaria-Detection/jupyter_notebooks. Or use the environment method.\n"
     ]
    }
   ],
   "source": [
    "KaggleDatasetPath = \"codeinstitute/malaria-cell-classification\"\n",
    "DestinationFolder = \"inputs/malaria_dataset\"   \n",
    "! kaggle datasets download -d {KaggleDatasetPath} -p {DestinationFolder}"
   ]
  }
 ],
 "metadata": {
  "kernelspec": {
   "display_name": "Python 3",
   "language": "python",
   "name": "python3"
  },
  "language_info": {
   "codemirror_mode": {
    "name": "ipython",
    "version": 3
   },
   "file_extension": ".py",
   "mimetype": "text/x-python",
   "name": "python",
   "nbconvert_exporter": "python",
   "pygments_lexer": "ipython3",
   "version": "3.12.1"
  }
 },
 "nbformat": 4,
 "nbformat_minor": 5
}
